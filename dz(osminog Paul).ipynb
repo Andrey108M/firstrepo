{
 "cells": [
  {
   "cell_type": "code",
   "execution_count": 4,
   "id": "56f1b36a",
   "metadata": {},
   "outputs": [
    {
     "name": "stdout",
     "output_type": "stream",
     "text": [
      "16\n"
     ]
    }
   ],
   "source": [
    "#Задача про осьминога\n",
    "# р(14) = 2^(-16)*(С(14/16)+С(15/16)+С(16/16))\n",
    "import math\n",
    "print(math.comb(16, 1)) "
   ]
  },
  {
   "cell_type": "code",
   "execution_count": 11,
   "id": "b83c4486",
   "metadata": {},
   "outputs": [
    {
     "data": {
      "text/plain": [
       "0.029296875"
      ]
     },
     "execution_count": 11,
     "metadata": {},
     "output_type": "execute_result"
    }
   ],
   "source": [
    "p = (1/2**16)*(math.comb(16, 14)*math.comb(16, 15)*math.comb(16, 16))\n",
    "p"
   ]
  },
  {
   "cell_type": "code",
   "execution_count": 12,
   "id": "995c9d25",
   "metadata": {},
   "outputs": [
    {
     "name": "stdout",
     "output_type": "stream",
     "text": [
      "Не является вероятностью того, что Пауль выбирает кормушку наугад \n"
     ]
    }
   ],
   "source": [
    "if p < 0.05:\n",
    "    print(\"Не является вероятностью того, что Пауль выбирает кормушку наугад \")"
   ]
  },
  {
   "cell_type": "code",
   "execution_count": null,
   "id": "7839bfca",
   "metadata": {},
   "outputs": [],
   "source": []
  }
 ],
 "metadata": {
  "kernelspec": {
   "display_name": "Python 3 (ipykernel)",
   "language": "python",
   "name": "python3"
  },
  "language_info": {
   "codemirror_mode": {
    "name": "ipython",
    "version": 3
   },
   "file_extension": ".py",
   "mimetype": "text/x-python",
   "name": "python",
   "nbconvert_exporter": "python",
   "pygments_lexer": "ipython3",
   "version": "3.9.12"
  }
 },
 "nbformat": 4,
 "nbformat_minor": 5
}
